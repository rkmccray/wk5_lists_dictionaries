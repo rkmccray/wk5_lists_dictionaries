{
 "cells": [
  {
   "cell_type": "code",
   "execution_count": 1,
   "id": "f2d2503f-d069-4845-9e9e-5674c6e03e7f",
   "metadata": {},
   "outputs": [],
   "source": [
    "## create search_terms list\n",
    "\n",
    "search_terms = [\"improper_touching\", \"self_medication\", \"self_prescribing\", \"opioid_addiction\", \"harassment\", \"coercion\", \"sexual_harassment\", \"sex\", \"sexual_favor\", \"abuse_of_trust\", \"opioid_prescriptions_in_return_for_sex\"]"
   ]
  },
  {
   "cell_type": "code",
   "execution_count": 3,
   "id": "f4c9dde7-d356-434c-b7bb-bb0812c29e84",
   "metadata": {},
   "outputs": [
    {
     "data": {
      "text/plain": [
       "list"
      ]
     },
     "execution_count": 3,
     "metadata": {},
     "output_type": "execute_result"
    }
   ],
   "source": [
    "## check data type\n",
    "\n",
    "type(search_terms)"
   ]
  },
  {
   "cell_type": "code",
   "execution_count": 5,
   "id": "92ab2d6f-c9c4-437e-b91c-f40d97c46cab",
   "metadata": {},
   "outputs": [
    {
     "data": {
      "text/plain": [
       "11"
      ]
     },
     "execution_count": 5,
     "metadata": {},
     "output_type": "execute_result"
    }
   ],
   "source": [
    "## how long is the list?\n",
    "\n",
    "len(search_terms)"
   ]
  },
  {
   "cell_type": "code",
   "execution_count": 7,
   "id": "c05de5be-88de-40fb-9bc9-8cb54bacbd2e",
   "metadata": {},
   "outputs": [],
   "source": [
    "## import library\n",
    "\n",
    "import pandas as pd"
   ]
  },
  {
   "cell_type": "code",
   "execution_count": 16,
   "id": "3d4d3630-7273-4d1b-b521-996e099e4f91",
   "metadata": {},
   "outputs": [
    {
     "data": {
      "text/plain": [
       "{'Year': 2017,\n",
       " 'Donor': 'David_H_Koch_Charitable_Foundation',\n",
       " 'Grantee': 'City_Center_for_Music_and_Drama',\n",
       " 'Amount': 15000000}"
      ]
     },
     "execution_count": 16,
     "metadata": {},
     "output_type": "execute_result"
    }
   ],
   "source": [
    "## build and call the 1st dictionary\n",
    "\n",
    "giving_1 = {\"Year\": 2017,\n",
    "        \"Donor\": \"David_H_Koch_Charitable_Foundation\",\n",
    "        \"Grantee\": \"City_Center_for_Music_and_Drama\",\n",
    "        \"Amount\": 15_000_000}\n",
    "giving_1"
   ]
  },
  {
   "cell_type": "code",
   "execution_count": 20,
   "id": "fc220f76-3a88-4677-8b2a-c9f5bb27fa7d",
   "metadata": {},
   "outputs": [
    {
     "data": {
      "text/plain": [
       "{'Year': 2013,\n",
       " 'Donor': 'Bradley_Impact_Fund_Inc',\n",
       " 'Grantee': 'Young_Americas_Foundation',\n",
       " 'Amount': 11000}"
      ]
     },
     "execution_count": 20,
     "metadata": {},
     "output_type": "execute_result"
    }
   ],
   "source": [
    "## build and call 2nd dictionary\n",
    "\n",
    "giving_2 = {\"Year\": 2013,\n",
    "            \"Donor\": \"Bradley_Impact_Fund_Inc\",\n",
    "            \"Grantee\": \"Young_Americas_Foundation\",\n",
    "            \"Amount\": 11_000}\n",
    "giving_2"
   ]
  },
  {
   "cell_type": "code",
   "execution_count": 24,
   "id": "1327839e-e0de-46b1-a049-a5979d3709b3",
   "metadata": {},
   "outputs": [
    {
     "data": {
      "text/plain": [
       "{'Year': 2016,\n",
       " 'Donor': 'Mercer_Family_Foundation',\n",
       " 'Grantee': 'The_Becket_Fund',\n",
       " 'Amount': 250000}"
      ]
     },
     "execution_count": 24,
     "metadata": {},
     "output_type": "execute_result"
    }
   ],
   "source": [
    "## build and call 3rd dictionary\n",
    "\n",
    "giving_3 = {\"Year\": 2016,\n",
    "            \"Donor\": \"Mercer_Family_Foundation\",\n",
    "            \"Grantee\": \"The_Becket_Fund\",\n",
    "            \"Amount\": 250_000}\n",
    "\n",
    "giving_3"
   ]
  },
  {
   "cell_type": "code",
   "execution_count": 26,
   "id": "3354c3cb-8ffe-4642-a3af-c644d0beba0d",
   "metadata": {},
   "outputs": [
    {
     "data": {
      "text/plain": [
       "{'Year': 2012,\n",
       " 'Donor': 'Charles_Koch_Foundationn',\n",
       " 'Grantee': 'The_Phillips_Foundation',\n",
       " 'Amount': 25000}"
      ]
     },
     "execution_count": 26,
     "metadata": {},
     "output_type": "execute_result"
    }
   ],
   "source": [
    "## build and call 4th dictionary\n",
    "\n",
    "giving_4 = {\"Year\": 2012,\n",
    "            \"Donor\": \"Charles_Koch_Foundationn\",\n",
    "            \"Grantee\": \"The_Phillips_Foundation\",\n",
    "            \"Amount\": 25_000}\n",
    "giving_4"
   ]
  },
  {
   "cell_type": "code",
   "execution_count": 30,
   "id": "ccb1f6cc-4050-4b7d-bbe3-a81a4a2c3bc6",
   "metadata": {},
   "outputs": [
    {
     "data": {
      "text/plain": [
       "{'Year': 2017,\n",
       " 'Donor': 'Barbara_and_Barre_Seid_Foundation',\n",
       " 'Grantee': 'Boy_Scounts_of_America',\n",
       " 'Amount': 2634600}"
      ]
     },
     "execution_count": 30,
     "metadata": {},
     "output_type": "execute_result"
    }
   ],
   "source": [
    "## build and call 5th dictionary\n",
    "\n",
    "giving_5 = {\"Year\": 2017,\n",
    "            \"Donor\": \"Barbara_and_Barre_Seid_Foundation\",\n",
    "            \"Grantee\": \"Boy_Scounts_of_America\",\n",
    "            \"Amount\": 2_634_600}\n",
    "giving_5"
   ]
  },
  {
   "cell_type": "code",
   "execution_count": 32,
   "id": "2e6ea5c2-e40f-4dc8-814f-4fcc8c421131",
   "metadata": {},
   "outputs": [
    {
     "data": {
      "text/plain": [
       "[{'Year': 2017,\n",
       "  'Donor': 'David_H_Koch_Charitable_Foundation',\n",
       "  'Grantee': 'City_Center_for_Music_and_Drama',\n",
       "  'Amount': 15000000},\n",
       " {'Year': 2013,\n",
       "  'Donor': 'Bradley_Impact_Fund_Inc',\n",
       "  'Grantee': 'Young_Americas_Foundation',\n",
       "  'Amount': 11000},\n",
       " {'Year': 2016,\n",
       "  'Donor': 'Mercer_Family_Foundation',\n",
       "  'Grantee': 'The_Becket_Fund',\n",
       "  'Amount': 250000},\n",
       " {'Year': 2012,\n",
       "  'Donor': 'Charles_Koch_Foundationn',\n",
       "  'Grantee': 'The_Phillips_Foundation',\n",
       "  'Amount': 25000},\n",
       " {'Year': 2017,\n",
       "  'Donor': 'Barbara_and_Barre_Seid_Foundation',\n",
       "  'Grantee': 'Boy_Scounts_of_America',\n",
       "  'Amount': 2634600}]"
      ]
     },
     "execution_count": 32,
     "metadata": {},
     "output_type": "execute_result"
    }
   ],
   "source": [
    "## print the list of dictionaries\n",
    "\n",
    "donations_list = [giving_1, giving_2, giving_3, giving_4, giving_5]\n",
    "\n",
    "donations_list"
   ]
  },
  {
   "cell_type": "code",
   "execution_count": 34,
   "id": "063e25a9-d33a-4dc3-bb1e-e979b586bf50",
   "metadata": {},
   "outputs": [
    {
     "data": {
      "text/plain": [
       "[{'Year': 2017,\n",
       "  'Donor': 'David_H_Koch_Charitable_Foundation',\n",
       "  'Grantee': 'City_Center_for_Music_and_Drama',\n",
       "  'Amount': 15000000},\n",
       " {'Year': 2013,\n",
       "  'Donor': 'Bradley_Impact_Fund_Inc',\n",
       "  'Grantee': 'Young_Americas_Foundation',\n",
       "  'Amount': 11000},\n",
       " {'Year': 2016,\n",
       "  'Donor': 'Mercer_Family_Foundation',\n",
       "  'Grantee': 'The_Becket_Fund',\n",
       "  'Amount': 250000},\n",
       " {'Year': 2012,\n",
       "  'Donor': 'Charles_Koch_Foundationn',\n",
       "  'Grantee': 'The_Phillips_Foundation',\n",
       "  'Amount': 25000},\n",
       " {'Year': 2017,\n",
       "  'Donor': 'Barbara_and_Barre_Seid_Foundation',\n",
       "  'Grantee': 'Boy_Scounts_of_America',\n",
       "  'Amount': 2634600}]"
      ]
     },
     "execution_count": 34,
     "metadata": {},
     "output_type": "execute_result"
    }
   ],
   "source": [
    "## call donations\n",
    "\n",
    "donations_list"
   ]
  },
  {
   "cell_type": "code",
   "execution_count": 36,
   "id": "fa285397-3586-4fc8-8971-b0ca1677cd11",
   "metadata": {},
   "outputs": [
    {
     "data": {
      "text/plain": [
       "5"
      ]
     },
     "execution_count": 36,
     "metadata": {},
     "output_type": "execute_result"
    }
   ],
   "source": [
    "## How many items are in this list?\n",
    "\n",
    "len(donations_list)"
   ]
  },
  {
   "cell_type": "code",
   "execution_count": 54,
   "id": "61660b93-dbc7-49d5-9599-50802c3d69c8",
   "metadata": {},
   "outputs": [],
   "source": [
    "df = pd.DataFrame(donations_list)\n",
    "df.to_csv(\"donations.csv\", encoding = \"UTF-8\", index = False)"
   ]
  },
  {
   "cell_type": "code",
   "execution_count": 56,
   "id": "763b50a8-fe02-4211-9834-fee95387a8fb",
   "metadata": {},
   "outputs": [
    {
     "data": {
      "text/html": [
       "<div>\n",
       "<style scoped>\n",
       "    .dataframe tbody tr th:only-of-type {\n",
       "        vertical-align: middle;\n",
       "    }\n",
       "\n",
       "    .dataframe tbody tr th {\n",
       "        vertical-align: top;\n",
       "    }\n",
       "\n",
       "    .dataframe thead th {\n",
       "        text-align: right;\n",
       "    }\n",
       "</style>\n",
       "<table border=\"1\" class=\"dataframe\">\n",
       "  <thead>\n",
       "    <tr style=\"text-align: right;\">\n",
       "      <th></th>\n",
       "      <th>Year</th>\n",
       "      <th>Donor</th>\n",
       "      <th>Grantee</th>\n",
       "      <th>Amount</th>\n",
       "    </tr>\n",
       "  </thead>\n",
       "  <tbody>\n",
       "    <tr>\n",
       "      <th>0</th>\n",
       "      <td>2017</td>\n",
       "      <td>David_H_Koch_Charitable_Foundation</td>\n",
       "      <td>City_Center_for_Music_and_Drama</td>\n",
       "      <td>15000000</td>\n",
       "    </tr>\n",
       "    <tr>\n",
       "      <th>1</th>\n",
       "      <td>2013</td>\n",
       "      <td>Bradley_Impact_Fund_Inc</td>\n",
       "      <td>Young_Americas_Foundation</td>\n",
       "      <td>11000</td>\n",
       "    </tr>\n",
       "    <tr>\n",
       "      <th>2</th>\n",
       "      <td>2016</td>\n",
       "      <td>Mercer_Family_Foundation</td>\n",
       "      <td>The_Becket_Fund</td>\n",
       "      <td>250000</td>\n",
       "    </tr>\n",
       "    <tr>\n",
       "      <th>3</th>\n",
       "      <td>2012</td>\n",
       "      <td>Charles_Koch_Foundationn</td>\n",
       "      <td>The_Phillips_Foundation</td>\n",
       "      <td>25000</td>\n",
       "    </tr>\n",
       "    <tr>\n",
       "      <th>4</th>\n",
       "      <td>2017</td>\n",
       "      <td>Barbara_and_Barre_Seid_Foundation</td>\n",
       "      <td>Boy_Scounts_of_America</td>\n",
       "      <td>2634600</td>\n",
       "    </tr>\n",
       "  </tbody>\n",
       "</table>\n",
       "</div>"
      ],
      "text/plain": [
       "   Year                               Donor                          Grantee  \\\n",
       "0  2017  David_H_Koch_Charitable_Foundation  City_Center_for_Music_and_Drama   \n",
       "1  2013             Bradley_Impact_Fund_Inc        Young_Americas_Foundation   \n",
       "2  2016            Mercer_Family_Foundation                  The_Becket_Fund   \n",
       "3  2012            Charles_Koch_Foundationn          The_Phillips_Foundation   \n",
       "4  2017   Barbara_and_Barre_Seid_Foundation           Boy_Scounts_of_America   \n",
       "\n",
       "     Amount  \n",
       "0  15000000  \n",
       "1     11000  \n",
       "2    250000  \n",
       "3     25000  \n",
       "4   2634600  "
      ]
     },
     "execution_count": 56,
     "metadata": {},
     "output_type": "execute_result"
    }
   ],
   "source": [
    "df"
   ]
  },
  {
   "cell_type": "code",
   "execution_count": 38,
   "id": "44650fe6-46c7-44ee-81ab-4fd49f72673b",
   "metadata": {},
   "outputs": [],
   "source": [
    "disasters = [\n",
    "        \"Landslides\",\n",
    "        \"Earthquake\",\n",
    "        \"Wildfires\",\n",
    "        \"Tornadoes\",\n",
    "        \"Hurricane\",\n",
    "        \"Wind Storm\",\n",
    "        \"Winter Freeze\",\n",
    "        \"Ice Storm\",\n",
    "        \"Drought\",\n",
    "        \"Tsunami\",\n",
    "        \"Flash floods\",\n",
    "        \"Mudslides\",\n",
    "        \"Torrential rainfall\",\n",
    "        \"Riverine floods\",\n",
    "        \"Tidal Surge\"\n",
    "         ]"
   ]
  },
  {
   "cell_type": "code",
   "execution_count": 40,
   "id": "eb824446-5f05-4f5d-a862-f849d346da4f",
   "metadata": {},
   "outputs": [
    {
     "data": {
      "text/plain": [
       "['Landslides',\n",
       " 'Earthquake',\n",
       " 'Wildfires',\n",
       " 'Tornadoes',\n",
       " 'Hurricane',\n",
       " 'Wind Storm',\n",
       " 'Winter Freeze',\n",
       " 'Ice Storm',\n",
       " 'Drought',\n",
       " 'Tsunami',\n",
       " 'Flash floods',\n",
       " 'Mudslides',\n",
       " 'Torrential rainfall',\n",
       " 'Riverine floods',\n",
       " 'Tidal Surge']"
      ]
     },
     "execution_count": 40,
     "metadata": {},
     "output_type": "execute_result"
    }
   ],
   "source": [
    "disasters"
   ]
  },
  {
   "cell_type": "code",
   "execution_count": 46,
   "id": "0320ec14-6a1b-4318-9b3b-4c9dd869e055",
   "metadata": {},
   "outputs": [
    {
     "data": {
      "text/plain": [
       "'Landslides'"
      ]
     },
     "execution_count": 46,
     "metadata": {},
     "output_type": "execute_result"
    }
   ],
   "source": [
    "## call the first item in the list\n",
    "\n",
    "disasters[0]"
   ]
  },
  {
   "cell_type": "code",
   "execution_count": 48,
   "id": "9473516d-8622-4a9d-a5ee-c4ce5a356d56",
   "metadata": {},
   "outputs": [
    {
     "data": {
      "text/plain": [
       "'Riverine floods'"
      ]
     },
     "execution_count": 48,
     "metadata": {},
     "output_type": "execute_result"
    }
   ],
   "source": [
    "## call the penultimate item in the list\n",
    "\n",
    "disasters[-2]"
   ]
  },
  {
   "cell_type": "code",
   "execution_count": 62,
   "id": "f66fe457-045c-427c-90f3-3ee0214dd9cd",
   "metadata": {},
   "outputs": [
    {
     "data": {
      "text/plain": [
       "['Wildfires', 'Tornadoes', 'Hurricane']"
      ]
     },
     "execution_count": 62,
     "metadata": {},
     "output_type": "execute_result"
    }
   ],
   "source": [
    "## create a new list called disasters_subset that holds the 3rd to 6th items inclusive\n",
    "\n",
    "disasters_subset = disasters[2:5]\n",
    "disasters_subset"
   ]
  },
  {
   "cell_type": "code",
   "execution_count": 68,
   "id": "c27d754e-55a6-4d95-b8ef-517600941639",
   "metadata": {},
   "outputs": [
    {
     "data": {
      "text/plain": [
       "['Earthquake',\n",
       " 'Wildfires',\n",
       " 'Tornadoes',\n",
       " 'Hurricane',\n",
       " 'Wind Storm',\n",
       " 'Winter Freeze']"
      ]
     },
     "execution_count": 68,
     "metadata": {},
     "output_type": "execute_result"
    }
   ],
   "source": [
    "## create a new list called disasters_subset2 that holds the 2nd through 8th items\n",
    "\n",
    "disasters_subset2 = disasters[1:7]\n",
    "disasters_subset2"
   ]
  },
  {
   "cell_type": "code",
   "execution_count": null,
   "id": "0a09660f-502e-4eec-8b52-4fa2b98fdfa7",
   "metadata": {},
   "outputs": [],
   "source": []
  }
 ],
 "metadata": {
  "kernelspec": {
   "display_name": "Python [conda env:base] *",
   "language": "python",
   "name": "conda-base-py"
  },
  "language_info": {
   "codemirror_mode": {
    "name": "ipython",
    "version": 3
   },
   "file_extension": ".py",
   "mimetype": "text/x-python",
   "name": "python",
   "nbconvert_exporter": "python",
   "pygments_lexer": "ipython3",
   "version": "3.12.7"
  }
 },
 "nbformat": 4,
 "nbformat_minor": 5
}
